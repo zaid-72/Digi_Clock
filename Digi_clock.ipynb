{
 "cells": [
  {
   "cell_type": "code",
   "execution_count": 1,
   "id": "b5d76803",
   "metadata": {},
   "outputs": [],
   "source": [
    "from tkinter import *\n",
    "from time import strftime\n",
    "\n",
    "def time():\n",
    "    string = strftime('%H:%M:%S %p')\n",
    "    lbl.config(text=string)\n",
    "    lbl.after(1000, time)\n",
    "\n",
    "root = Tk()\n",
    "root.title(\"Naruto's Digital Clock\")\n",
    "root.geometry(\"800x200\")\n",
    "root.configure(bg='aquamarine')\n",
    "\n",
    "lbl = Label(root, font=('Digital-7 Mono',100, 'bold'), background='aquamarine', foreground='black')\n",
    "lbl.pack(anchor='center')\n",
    "\n",
    "time()\n",
    "\n",
    "root.mainloop()\n"
   ]
  },
  {
   "cell_type": "code",
   "execution_count": null,
   "id": "2cac669a",
   "metadata": {},
   "outputs": [],
   "source": []
  },
  {
   "cell_type": "code",
   "execution_count": null,
   "id": "853e8450",
   "metadata": {},
   "outputs": [],
   "source": []
  }
 ],
 "metadata": {
  "kernelspec": {
   "display_name": "Python 3 (ipykernel)",
   "language": "python",
   "name": "python3"
  },
  "language_info": {
   "codemirror_mode": {
    "name": "ipython",
    "version": 3
   },
   "file_extension": ".py",
   "mimetype": "text/x-python",
   "name": "python",
   "nbconvert_exporter": "python",
   "pygments_lexer": "ipython3",
   "version": "3.11.5"
  }
 },
 "nbformat": 4,
 "nbformat_minor": 5
}
